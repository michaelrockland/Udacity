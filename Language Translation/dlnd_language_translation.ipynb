{
 "cells": [
  {
   "cell_type": "markdown",
   "metadata": {
    "collapsed": true
   },
   "source": [
    "# Language Translation\n",
    "In this project, you’re going to take a peek into the realm of neural network machine translation.  You’ll be training a sequence to sequence model on a dataset of English and French sentences that can translate new sentences from English to French.\n",
    "## Get the Data\n",
    "Since translating the whole language of English to French will take lots of time to train, we have provided you with a small portion of the English corpus."
   ]
  },
  {
   "cell_type": "code",
   "execution_count": 1,
   "metadata": {
    "collapsed": true
   },
   "outputs": [],
   "source": [
    "\"\"\"\n",
    "DON'T MODIFY ANYTHING IN THIS CELL\n",
    "\"\"\"\n",
    "import helper\n",
    "import problem_unittests as tests\n",
    "\n",
    "source_path = 'data/small_vocab_en'\n",
    "target_path = 'data/small_vocab_fr'\n",
    "source_text = helper.load_data(source_path)\n",
    "target_text = helper.load_data(target_path)"
   ]
  },
  {
   "cell_type": "markdown",
   "metadata": {},
   "source": [
    "## Explore the Data\n",
    "Play around with view_sentence_range to view different parts of the data."
   ]
  },
  {
   "cell_type": "code",
   "execution_count": 2,
   "metadata": {},
   "outputs": [
    {
     "name": "stdout",
     "output_type": "stream",
     "text": [
      "Dataset Stats\n",
      "Roughly the number of unique words: 227\n",
      "Number of sentences: 137861\n",
      "Average number of words in a sentence: 13.225277634719028\n",
      "\n",
      "English sentences 50 to 75:\n",
      "paris is never hot during summer , and it is usually mild in winter .\n",
      "she disliked a rusty yellow car .\n",
      "france is usually quiet during november , but it is sometimes warm in february .\n",
      "new jersey is never wet during november , and it is mild in august .\n",
      "we like peaches , pears , and strawberries .\n",
      "the orange is her least liked fruit , but the grapefruit is their least liked .\n",
      "china is never rainy during november , and it is quiet in january .\n",
      "china is relaxing during march , but it is sometimes snowy in september .\n",
      "paris is wonderful during march , but it is usually pleasant in june .\n",
      "new jersey is chilly during autumn , and it is sometimes pleasant in spring .\n",
      "california is never freezing during october , but it is usually quiet in june .\n",
      "new jersey is freezing during winter , but it is sometimes wonderful in january .\n",
      "i like grapes , pears , and strawberries .\n",
      "the lemon is my most loved fruit , but the strawberry is our most loved .\n",
      "china is usually dry during march , but it is nice in november .\n",
      "paris is pleasant during december , but it is never nice in november .\n",
      "china is freezing during july , but it is relaxing in january .\n",
      "the apple is our least favorite fruit , but the orange is her least favorite .\n",
      "he dislikes grapes , grapefruit , and bananas.\n",
      "he dislikes apples , mangoes , and strawberries .\n",
      "china is hot during july , but it is never pleasant in january .\n",
      "india is usually dry during april , and it is freezing in february .\n",
      "she is going to the united states next summer .\n",
      "france is sometimes rainy during february , and it is usually quiet in spring .\n",
      "i plan to visit california next may .\n",
      "\n",
      "French sentences 50 to 75:\n",
      "paris est jamais chaude pendant l' été , et il est généralement doux en hiver .\n",
      "elle n'aimait pas une voiture jaune rouillée .\n",
      "la france est généralement calme en novembre , mais il est parfois chaud en février .\n",
      "new jersey est jamais humide au mois de novembre , et il est doux au mois d' août .\n",
      "nous aimons les pêches , les poires et les fraises .\n",
      "l'orange est la moins aimé des fruits , mais le pamplemousse est leur moins aimé .\n",
      "chine est jamais pluvieux en novembre , et il est calme en janvier .\n",
      "chine est relaxant au mois de mars , mais il est parfois enneigée en septembre .\n",
      "paris est merveilleux au mois de mars , mais il est généralement agréable en juin .\n",
      "new jersey est froid au cours de l' automne , et il est parfois agréable au printemps .\n",
      "la californie est jamais le gel en octobre , mais il est généralement calme en juin .\n",
      "new jersey est le gel pendant l' hiver , mais il est parfois merveilleux en janvier .\n",
      "j'aime les raisins , les poires et les fraises .\n",
      "le citron est mon fruit le plus aimé , mais la fraise est notre plus aimé .\n",
      "chine est généralement sec en mars , mais il est agréable en novembre .\n",
      "paris est agréable en décembre , mais il est jamais agréable en novembre .\n",
      "chine gèle en juillet , mais il est relaxant en janvier .\n",
      "la pomme est notre fruit préféré moins , mais l'orange est son moins préféré .\n",
      "il déteste les raisins , le pamplemousse et les bananes .\n",
      "il déteste les pommes , les mangues et les fraises .\n",
      "chine est chaud en juillet , mais il est jamais agréable en janvier .\n",
      "l' inde est généralement sec en avril , et il gèle en février .\n",
      "elle va aux états-unis l' été prochain .\n",
      "la france est parfois pluvieux en février , et il est généralement calme au printemps .\n",
      "je prévois de visiter la californie en mai prochain .\n"
     ]
    }
   ],
   "source": [
    "view_sentence_range = (50, 75)\n",
    "\n",
    "\"\"\"\n",
    "DON'T MODIFY ANYTHING IN THIS CELL\n",
    "\"\"\"\n",
    "import numpy as np\n",
    "\n",
    "print('Dataset Stats')\n",
    "print('Roughly the number of unique words: {}'.format(len({word: None for word in source_text.split()})))\n",
    "\n",
    "sentences = source_text.split('\\n')\n",
    "word_counts = [len(sentence.split()) for sentence in sentences]\n",
    "print('Number of sentences: {}'.format(len(sentences)))\n",
    "print('Average number of words in a sentence: {}'.format(np.average(word_counts)))\n",
    "\n",
    "print()\n",
    "print('English sentences {} to {}:'.format(*view_sentence_range))\n",
    "print('\\n'.join(source_text.split('\\n')[view_sentence_range[0]:view_sentence_range[1]]))\n",
    "print()\n",
    "print('French sentences {} to {}:'.format(*view_sentence_range))\n",
    "print('\\n'.join(target_text.split('\\n')[view_sentence_range[0]:view_sentence_range[1]]))"
   ]
  },
  {
   "cell_type": "markdown",
   "metadata": {},
   "source": [
    "## Implement Preprocessing Function\n",
    "### Text to Word Ids\n",
    "As you did with other RNNs, you must turn the text into a number so the computer can understand it. In the function `text_to_ids()`, you'll turn `source_text` and `target_text` from words to ids.  However, you need to add the `<EOS>` word id at the end of `target_text`.  This will help the neural network predict when the sentence should end.\n",
    "\n",
    "You can get the `<EOS>` word id by doing:\n",
    "```python\n",
    "target_vocab_to_int['<EOS>']\n",
    "```\n",
    "You can get other word ids using `source_vocab_to_int` and `target_vocab_to_int`."
   ]
  },
  {
   "cell_type": "code",
   "execution_count": 3,
   "metadata": {},
   "outputs": [
    {
     "name": "stdout",
     "output_type": "stream",
     "text": [
      "Tests Passed\n"
     ]
    }
   ],
   "source": [
    "def text_to_ids(source_text, target_text, source_vocab_to_int, target_vocab_to_int):\n",
    "    \"\"\"\n",
    "    Convert source and target text to proper word ids\n",
    "    :param source_text: String that contains all the source text.\n",
    "    :param target_text: String that contains all the target text.\n",
    "    :param source_vocab_to_int: Dictionary to go from the source words to an id\n",
    "    :param target_vocab_to_int: Dictionary to go from the target words to an id\n",
    "    :return: A tuple of lists (source_id_text, target_id_text)\n",
    "    \"\"\"\n",
    "    # TODO: Implement Function\n",
    "    source_sentences = source_text.split('\\n')\n",
    "    target_sentences = target_text.split('\\n')\n",
    "    \n",
    "    source_txt_id = []\n",
    "    target_txt_id = []\n",
    "        \n",
    "    for sentence in source_sentences:\n",
    "        txt_ids = []\n",
    "        for word in sentence.split(' '):\n",
    "            try:\n",
    "                txt_ids.append(source_vocab_to_int[word])\n",
    "            except:\n",
    "                txt_ids.append(source_vocab_to_int['<UNK>'])\n",
    "        source_txt_id.append(txt_ids)\n",
    "    \n",
    "    for sentence in target_sentences:\n",
    "        sentence = sentence + ' <EOS>'\n",
    "        txt_ids = []\n",
    "        for word in sentence.split(' '):\n",
    "            try:\n",
    "                txt_ids.append(target_vocab_to_int[word])\n",
    "            except:\n",
    "                txt_ids.append(target_vocab_to_int['<UNK>'])\n",
    "        target_txt_id.append(txt_ids)\n",
    "        \n",
    "        \n",
    "    \n",
    "    return  source_txt_id, target_txt_id\n",
    "\n",
    "\"\"\"\n",
    "DON'T MODIFY ANYTHING IN THIS CELL THAT IS BELOW THIS LINE\n",
    "\"\"\"\n",
    "tests.test_text_to_ids(text_to_ids)"
   ]
  },
  {
   "cell_type": "markdown",
   "metadata": {},
   "source": [
    "### Preprocess all the data and save it\n",
    "Running the code cell below will preprocess all the data and save it to file."
   ]
  },
  {
   "cell_type": "code",
   "execution_count": 4,
   "metadata": {},
   "outputs": [],
   "source": [
    "\"\"\"\n",
    "DON'T MODIFY ANYTHING IN THIS CELL\n",
    "\"\"\"\n",
    "helper.preprocess_and_save_data(source_path, target_path, text_to_ids)"
   ]
  },
  {
   "cell_type": "markdown",
   "metadata": {},
   "source": [
    "# Check Point\n",
    "This is your first checkpoint. If you ever decide to come back to this notebook or have to restart the notebook, you can start from here. The preprocessed data has been saved to disk."
   ]
  },
  {
   "cell_type": "code",
   "execution_count": 5,
   "metadata": {
    "collapsed": true
   },
   "outputs": [],
   "source": [
    "\"\"\"\n",
    "DON'T MODIFY ANYTHING IN THIS CELL\n",
    "\"\"\"\n",
    "import numpy as np\n",
    "import helper\n",
    "\n",
    "(source_int_text, target_int_text), (source_vocab_to_int, target_vocab_to_int), _ = helper.load_preprocess()"
   ]
  },
  {
   "cell_type": "markdown",
   "metadata": {},
   "source": [
    "### Check the Version of TensorFlow and Access to GPU\n",
    "This will check to make sure you have the correct version of TensorFlow and access to a GPU"
   ]
  },
  {
   "cell_type": "code",
   "execution_count": 6,
   "metadata": {},
   "outputs": [
    {
     "name": "stdout",
     "output_type": "stream",
     "text": [
      "TensorFlow Version: 1.1.0\n",
      "Default GPU Device: /gpu:0\n"
     ]
    }
   ],
   "source": [
    "\"\"\"\n",
    "DON'T MODIFY ANYTHING IN THIS CELL\n",
    "\"\"\"\n",
    "from distutils.version import LooseVersion\n",
    "import warnings\n",
    "import tensorflow as tf\n",
    "from tensorflow.python.layers.core import Dense\n",
    "\n",
    "# Check TensorFlow Version\n",
    "assert LooseVersion(tf.__version__) >= LooseVersion('1.1'), 'Please use TensorFlow version 1.1 or newer'\n",
    "print('TensorFlow Version: {}'.format(tf.__version__))\n",
    "\n",
    "# Check for a GPU\n",
    "if not tf.test.gpu_device_name():\n",
    "    warnings.warn('No GPU found. Please use a GPU to train your neural network.')\n",
    "else:\n",
    "    print('Default GPU Device: {}'.format(tf.test.gpu_device_name()))"
   ]
  },
  {
   "cell_type": "markdown",
   "metadata": {},
   "source": [
    "## Build the Neural Network\n",
    "You'll build the components necessary to build a Sequence-to-Sequence model by implementing the following functions below:\n",
    "- `model_inputs`\n",
    "- `process_decoder_input`\n",
    "- `encoding_layer`\n",
    "- `decoding_layer_train`\n",
    "- `decoding_layer_infer`\n",
    "- `decoding_layer`\n",
    "- `seq2seq_model`\n",
    "\n",
    "### Input\n",
    "Implement the `model_inputs()` function to create TF Placeholders for the Neural Network. It should create the following placeholders:\n",
    "\n",
    "- Input text placeholder named \"input\" using the TF Placeholder name parameter with rank 2.\n",
    "- Targets placeholder with rank 2.\n",
    "- Learning rate placeholder with rank 0.\n",
    "- Keep probability placeholder named \"keep_prob\" using the TF Placeholder name parameter with rank 0.\n",
    "- Target sequence length placeholder named \"target_sequence_length\" with rank 1\n",
    "- Max target sequence length tensor named \"max_target_len\" getting its value from applying tf.reduce_max on the target_sequence_length placeholder. Rank 0.\n",
    "- Source sequence length placeholder named \"source_sequence_length\" with rank 1\n",
    "\n",
    "Return the placeholders in the following the tuple (input, targets, learning rate, keep probability, target sequence length, max target sequence length, source sequence length)"
   ]
  },
  {
   "cell_type": "code",
   "execution_count": 7,
   "metadata": {},
   "outputs": [
    {
     "name": "stdout",
     "output_type": "stream",
     "text": [
      "Tests Passed\n"
     ]
    }
   ],
   "source": [
    "def model_inputs():\n",
    "    \"\"\"\n",
    "    Create TF Placeholders for input, targets, learning rate, and lengths of source and target sequences.\n",
    "    :return: Tuple (input, targets, learning rate, keep probability, target sequence length,\n",
    "    max target sequence length, source sequence length)\n",
    "    \"\"\"\n",
    "    Input = tf.placeholder(tf.int32, [None, None], name='input')\n",
    "    Targets = tf.placeholder(tf.int32, [None, None], name='targets')\n",
    "    Learning_Rate = tf.placeholder(tf.float32, None, name='learning_rate')\n",
    "    Keep_Prob = tf.placeholder(tf.float32, None, name='keep_prob')\n",
    "    Target_Seq_Len = tf.placeholder(tf.int32, [None], name='target_sequence_length')\n",
    "    Max_Target_Len = tf.reduce_max(Target_Seq_Len)\n",
    "    Source_Seq_Len = tf.placeholder(tf.int32, [None], name='source_sequence_length')\n",
    "    \n",
    "    return Input, Targets, Learning_Rate, Keep_Prob, Target_Seq_Len, Max_Target_Len, Source_Seq_Len\n",
    "\n",
    "\n",
    "\"\"\"\n",
    "DON'T MODIFY ANYTHING IN THIS CELL THAT IS BELOW THIS LINE\n",
    "\"\"\"\n",
    "tests.test_model_inputs(model_inputs)"
   ]
  },
  {
   "cell_type": "markdown",
   "metadata": {},
   "source": [
    "### Process Decoder Input\n",
    "Implement `process_decoder_input` by removing the last word id from each batch in `target_data` and concat the GO ID to the begining of each batch."
   ]
  },
  {
   "cell_type": "code",
   "execution_count": 8,
   "metadata": {},
   "outputs": [
    {
     "name": "stdout",
     "output_type": "stream",
     "text": [
      "Tests Passed\n"
     ]
    }
   ],
   "source": [
    "def process_decoder_input(target_data, target_vocab_to_int, batch_size):\n",
    "    \"\"\"\n",
    "    Preprocess target data for encoding\n",
    "    :param target_data: Target Placehoder\n",
    "    :param target_vocab_to_int: Dictionary to go from the target words to an id\n",
    "    :param batch_size: Batch Size\n",
    "    :return: Preprocessed target data\n",
    "    \"\"\"\n",
    "    target_slice = tf.strided_slice(target_data, [0,0], [batch_size,-1], [1,1])\n",
    "    go_id = tf.fill([batch_size, 1], target_vocab_to_int['<GO>'])\n",
    "    target = tf.concat([go_id, target_slice], 1)\n",
    "    \n",
    "    return target\n",
    "\n",
    "\"\"\"\n",
    "DON'T MODIFY ANYTHING IN THIS CELL THAT IS BELOW THIS LINE\n",
    "\"\"\"\n",
    "tests.test_process_encoding_input(process_decoder_input)"
   ]
  },
  {
   "cell_type": "markdown",
   "metadata": {},
   "source": [
    "### Encoding\n",
    "Implement `encoding_layer()` to create a Encoder RNN layer:\n",
    " * Embed the encoder input using [`tf.contrib.layers.embed_sequence`](https://www.tensorflow.org/api_docs/python/tf/contrib/layers/embed_sequence)\n",
    " * Construct a [stacked](https://github.com/tensorflow/tensorflow/blob/6947f65a374ebf29e74bb71e36fd82760056d82c/tensorflow/docs_src/tutorials/recurrent.md#stacking-multiple-lstms) [`tf.contrib.rnn.LSTMCell`](https://www.tensorflow.org/api_docs/python/tf/contrib/rnn/LSTMCell) wrapped in a [`tf.contrib.rnn.DropoutWrapper`](https://www.tensorflow.org/api_docs/python/tf/contrib/rnn/DropoutWrapper)\n",
    " * Pass cell and embedded input to [`tf.nn.dynamic_rnn()`](https://www.tensorflow.org/api_docs/python/tf/nn/dynamic_rnn)"
   ]
  },
  {
   "cell_type": "code",
   "execution_count": 9,
   "metadata": {
    "scrolled": false
   },
   "outputs": [
    {
     "name": "stdout",
     "output_type": "stream",
     "text": [
      "Tests Passed\n"
     ]
    }
   ],
   "source": [
    "from imp import reload\n",
    "reload(tests)\n",
    "\n",
    "def encoding_layer(rnn_inputs, rnn_size, num_layers, keep_prob, \n",
    "                   source_sequence_length, source_vocab_size, \n",
    "                   encoding_embedding_size):\n",
    "    \"\"\"\n",
    "    Create encoding layer\n",
    "    :param rnn_inputs: Inputs for the RNN\n",
    "    :param rnn_size: RNN Size\n",
    "    :param num_layers: Number of layers\n",
    "    :param keep_prob: Dropout keep probability\n",
    "    :param source_sequence_length: a list of the lengths of each sequence in the batch\n",
    "    :param source_vocab_size: vocabulary size of source data\n",
    "    :param encoding_embedding_size: embedding size of source data\n",
    "    :return: tuple (RNN output, RNN state)\n",
    "    \"\"\"\n",
    "    embedding = tf.contrib.layers.embed_sequence(rnn_inputs, source_vocab_size, encoding_embedding_size)\n",
    "    cell = tf.contrib.rnn.MultiRNNCell(\n",
    "        [tf.contrib.rnn.DropoutWrapper(tf.contrib.rnn.LSTMCell(rnn_size), keep_prob) for _ in range(num_layers)])\n",
    "\n",
    "    output, state = tf.nn.dynamic_rnn(cell, embedding, dtype=tf.float32, sequence_length=source_sequence_length)\n",
    "    \n",
    "    return output, state\n",
    "\n",
    "\"\"\"\n",
    "DON'T MODIFY ANYTHING IN THIS CELL THAT IS BELOW THIS LINE\n",
    "\"\"\"\n",
    "tests.test_encoding_layer(encoding_layer)"
   ]
  },
  {
   "cell_type": "markdown",
   "metadata": {},
   "source": [
    "### Decoding - Training\n",
    "Create a training decoding layer:\n",
    "* Create a [`tf.contrib.seq2seq.TrainingHelper`](https://www.tensorflow.org/api_docs/python/tf/contrib/seq2seq/TrainingHelper) \n",
    "* Create a [`tf.contrib.seq2seq.BasicDecoder`](https://www.tensorflow.org/api_docs/python/tf/contrib/seq2seq/BasicDecoder)\n",
    "* Obtain the decoder outputs from [`tf.contrib.seq2seq.dynamic_decode`](https://www.tensorflow.org/api_docs/python/tf/contrib/seq2seq/dynamic_decode)"
   ]
  },
  {
   "cell_type": "code",
   "execution_count": 22,
   "metadata": {},
   "outputs": [
    {
     "name": "stdout",
     "output_type": "stream",
     "text": [
      "Tests Passed\n"
     ]
    }
   ],
   "source": [
    "\n",
    "def decoding_layer_train(encoder_state, dec_cell, dec_embed_input, \n",
    "                         target_sequence_length, max_summary_length, \n",
    "                         output_layer, keep_prob):\n",
    "    \"\"\"\n",
    "    Create a decoding layer for training\n",
    "    :param encoder_state: Encoder State\n",
    "    :param dec_cell: Decoder RNN Cell\n",
    "    :param dec_embed_input: Decoder embedded input\n",
    "    :param target_sequence_length: The lengths of each sequence in the target batch\n",
    "    :param max_summary_length: The length of the longest sequence in the batch\n",
    "    :param output_layer: Function to apply the output layer\n",
    "    :param keep_prob: Dropout keep probability\n",
    "    :return: BasicDecoderOutput containing training logits and sample_id\n",
    "    \"\"\"\n",
    "    helper = tf.contrib.seq2seq.TrainingHelper(dec_embed_input, target_sequence_length)\n",
    "    decoder = tf.contrib.seq2seq.BasicDecoder(tf.contrib.rnn.DropoutWrapper(dec_cell, keep_prob), helper, encoder_state, output_layer)\n",
    "    output, state = tf.contrib.seq2seq.dynamic_decode(decoder, impute_finished=True, maximum_iterations=max_summary_length)\n",
    "    return output\n",
    "\n",
    "\n",
    "\n",
    "\"\"\"\n",
    "DON'T MODIFY ANYTHING IN THIS CELL THAT IS BELOW THIS LINE\n",
    "\"\"\"\n",
    "tests.test_decoding_layer_train(decoding_layer_train)"
   ]
  },
  {
   "cell_type": "markdown",
   "metadata": {},
   "source": [
    "### Decoding - Inference\n",
    "Create inference decoder:\n",
    "* Create a [`tf.contrib.seq2seq.GreedyEmbeddingHelper`](https://www.tensorflow.org/api_docs/python/tf/contrib/seq2seq/GreedyEmbeddingHelper)\n",
    "* Create a [`tf.contrib.seq2seq.BasicDecoder`](https://www.tensorflow.org/api_docs/python/tf/contrib/seq2seq/BasicDecoder)\n",
    "* Obtain the decoder outputs from [`tf.contrib.seq2seq.dynamic_decode`](https://www.tensorflow.org/api_docs/python/tf/contrib/seq2seq/dynamic_decode)"
   ]
  },
  {
   "cell_type": "code",
   "execution_count": 23,
   "metadata": {
    "scrolled": true
   },
   "outputs": [
    {
     "name": "stdout",
     "output_type": "stream",
     "text": [
      "Tests Passed\n"
     ]
    }
   ],
   "source": [
    "def decoding_layer_infer(encoder_state, dec_cell, dec_embeddings, start_of_sequence_id,\n",
    "                         end_of_sequence_id, max_target_sequence_length,\n",
    "                         vocab_size, output_layer, batch_size, keep_prob):\n",
    "    \"\"\"\n",
    "    Create a decoding layer for inference\n",
    "    :param encoder_state: Encoder state\n",
    "    :param dec_cell: Decoder RNN Cell\n",
    "    :param dec_embeddings: Decoder embeddings\n",
    "    :param start_of_sequence_id: GO ID\n",
    "    :param end_of_sequence_id: EOS Id\n",
    "    :param max_target_sequence_length: Maximum length of target sequences\n",
    "    :param vocab_size: Size of decoder/target vocabulary\n",
    "    :param decoding_scope: TenorFlow Variable Scope for decoding\n",
    "    :param output_layer: Function to apply the output layer\n",
    "    :param batch_size: Batch size\n",
    "    :param keep_prob: Dropout keep probability\n",
    "    :return: BasicDecoderOutput containing inference logits and sample_id\n",
    "    \"\"\"\n",
    "    start_token = tf.tile(tf.constant([start_of_sequence_id], dtype=tf.int32), [batch_size], name='start_token')\n",
    "    helper = tf.contrib.seq2seq.GreedyEmbeddingHelper(dec_embeddings, start_token, end_of_sequence_id)\n",
    "    decoder = tf.contrib.seq2seq.BasicDecoder(dec_cell, helper, encoder_state, output_layer)\n",
    "    output, state = tf.contrib.seq2seq.dynamic_decode(decoder, impute_finished=True, maximum_iterations=max_target_sequence_length)\n",
    "    return output\n",
    "\n",
    "\n",
    "\"\"\"\n",
    "DON'T MODIFY ANYTHING IN THIS CELL THAT IS BELOW THIS LINE\n",
    "\"\"\"\n",
    "tests.test_decoding_layer_infer(decoding_layer_infer)"
   ]
  },
  {
   "cell_type": "markdown",
   "metadata": {},
   "source": [
    "### Build the Decoding Layer\n",
    "Implement `decoding_layer()` to create a Decoder RNN layer.\n",
    "\n",
    "* Embed the target sequences\n",
    "* Construct the decoder LSTM cell (just like you constructed the encoder cell above)\n",
    "* Create an output layer to map the outputs of the decoder to the elements of our vocabulary\n",
    "* Use the your `decoding_layer_train(encoder_state, dec_cell, dec_embed_input, target_sequence_length, max_target_sequence_length, output_layer, keep_prob)` function to get the training logits.\n",
    "* Use your `decoding_layer_infer(encoder_state, dec_cell, dec_embeddings, start_of_sequence_id, end_of_sequence_id, max_target_sequence_length, vocab_size, output_layer, batch_size, keep_prob)` function to get the inference logits.\n",
    "\n",
    "Note: You'll need to use [tf.variable_scope](https://www.tensorflow.org/api_docs/python/tf/variable_scope) to share variables between training and inference."
   ]
  },
  {
   "cell_type": "code",
   "execution_count": 24,
   "metadata": {},
   "outputs": [
    {
     "name": "stdout",
     "output_type": "stream",
     "text": [
      "Tests Passed\n"
     ]
    }
   ],
   "source": [
    "def decoding_layer(dec_input, encoder_state,\n",
    "                   target_sequence_length, max_target_sequence_length,\n",
    "                   rnn_size,\n",
    "                   num_layers, target_vocab_to_int, target_vocab_size,\n",
    "                   batch_size, keep_prob, decoding_embedding_size):\n",
    "    \"\"\"\n",
    "    Create decoding layer\n",
    "    :param dec_input: Decoder input\n",
    "    :param encoder_state: Encoder state\n",
    "    :param target_sequence_length: The lengths of each sequence in the target batch\n",
    "    :param max_target_sequence_length: Maximum length of target sequences\n",
    "    :param rnn_size: RNN Size\n",
    "    :param num_layers: Number of layers\n",
    "    :param target_vocab_to_int: Dictionary to go from the target words to an id\n",
    "    :param target_vocab_size: Size of target vocabulary\n",
    "    :param batch_size: The size of the batch\n",
    "    :param keep_prob: Dropout keep probability\n",
    "    :param decoding_embedding_size: Decoding embedding size\n",
    "    :return: Tuple of (Training BasicDecoderOutput, Inference BasicDecoderOutput)\n",
    "    \"\"\"\n",
    "    # embed the target sequences\n",
    "    dec_embedding = tf.Variable(tf.random_uniform([target_vocab_size, decoding_embedding_size]))\n",
    "    dec_embed_input = tf.nn.embedding_lookup(dec_embedding, dec_input)\n",
    "    \n",
    "    # contruct decoder LSTM\n",
    "    dec_cell = tf.contrib.rnn.MultiRNNCell(\n",
    "        [tf.contrib.rnn.DropoutWrapper(tf.contrib.rnn.LSTMCell(rnn_size), keep_prob) for _ in range(num_layers)])\n",
    "    \n",
    "    # create an output layer to map the outputs\n",
    "    output_layer = Dense(target_vocab_size)\n",
    "    \n",
    "    # deocding layer train\n",
    "    with tf.variable_scope(\"decode\"):\n",
    "        dec_outputs_train = decoding_layer_train(encoder_state, dec_cell, dec_embed_input, \n",
    "                             target_sequence_length, max_target_sequence_length, \n",
    "                             output_layer, keep_prob)\n",
    "    \n",
    "    # decoding layer infer\n",
    "    start_of_sequence_id = target_vocab_to_int[\"<GO>\"]\n",
    "    end_of_sequence_id = target_vocab_to_int[\"<EOS>\"]\n",
    "    with tf.variable_scope(\"decode\", reuse=True):\n",
    "        dec_outputs_infer = decoding_layer_infer(encoder_state, dec_cell, dec_embedding, start_of_sequence_id,\n",
    "                             end_of_sequence_id, max_target_sequence_length,\n",
    "                             target_vocab_size, output_layer, batch_size, keep_prob)\n",
    "\n",
    "    return dec_outputs_train, dec_outputs_infer\n",
    "\n",
    "\n",
    "\n",
    "\"\"\"\n",
    "DON'T MODIFY ANYTHING IN THIS CELL THAT IS BELOW THIS LINE\n",
    "\"\"\"\n",
    "tests.test_decoding_layer(decoding_layer)"
   ]
  },
  {
   "cell_type": "markdown",
   "metadata": {},
   "source": [
    "### Build the Neural Network\n",
    "Apply the functions you implemented above to:\n",
    "\n",
    "- Encode the input using your `encoding_layer(rnn_inputs, rnn_size, num_layers, keep_prob,  source_sequence_length, source_vocab_size, encoding_embedding_size)`.\n",
    "- Process target data using your `process_decoder_input(target_data, target_vocab_to_int, batch_size)` function.\n",
    "- Decode the encoded input using your `decoding_layer(dec_input, enc_state, target_sequence_length, max_target_sentence_length, rnn_size, num_layers, target_vocab_to_int, target_vocab_size, batch_size, keep_prob, dec_embedding_size)` function."
   ]
  },
  {
   "cell_type": "code",
   "execution_count": 25,
   "metadata": {},
   "outputs": [
    {
     "name": "stdout",
     "output_type": "stream",
     "text": [
      "Tests Passed\n"
     ]
    }
   ],
   "source": [
    "def seq2seq_model(input_data, target_data, keep_prob, batch_size,\n",
    "                  source_sequence_length, target_sequence_length,\n",
    "                  max_target_sentence_length,\n",
    "                  source_vocab_size, target_vocab_size,\n",
    "                  enc_embedding_size, dec_embedding_size,\n",
    "                  rnn_size, num_layers, target_vocab_to_int):\n",
    "    \"\"\"\n",
    "    Build the Sequence-to-Sequence part of the neural network\n",
    "    :param input_data: Input placeholder\n",
    "    :param target_data: Target placeholder\n",
    "    :param keep_prob: Dropout keep probability placeholder\n",
    "    :param batch_size: Batch Size\n",
    "    :param source_sequence_length: Sequence Lengths of source sequences in the batch\n",
    "    :param target_sequence_length: Sequence Lengths of target sequences in the batch\n",
    "    :param source_vocab_size: Source vocabulary size\n",
    "    :param target_vocab_size: Target vocabulary size\n",
    "    :param enc_embedding_size: Decoder embedding size\n",
    "    :param dec_embedding_size: Encoder embedding size\n",
    "    :param rnn_size: RNN Size\n",
    "    :param num_layers: Number of layers\n",
    "    :param target_vocab_to_int: Dictionary to go from the target words to an id\n",
    "    :return: Tuple of (Training BasicDecoderOutput, Inference BasicDecoderOutput)\n",
    "    \"\"\"\n",
    "    # encode the input\n",
    "    enc_output, enc_state = encoding_layer(input_data, rnn_size, num_layers, keep_prob, \n",
    "                   source_sequence_length, source_vocab_size, \n",
    "                   enc_embedding_size)\n",
    "    \n",
    "    # process target data\n",
    "    dec_input = process_decoder_input(target_data, target_vocab_to_int, batch_size) \n",
    "    \n",
    "    # decode the encoded input\n",
    "    dec_outputs_train, dec_outputs_infer = decoding_layer(dec_input, enc_state,\n",
    "                   target_sequence_length, tf.reduce_max(target_sequence_length),\n",
    "                   rnn_size,\n",
    "                   num_layers, target_vocab_to_int, target_vocab_size,\n",
    "                   batch_size, keep_prob, dec_embedding_size)\n",
    "    return dec_outputs_train, dec_outputs_infer\n",
    "\n",
    "\n",
    "\"\"\"\n",
    "DON'T MODIFY ANYTHING IN THIS CELL THAT IS BELOW THIS LINE\n",
    "\"\"\"\n",
    "tests.test_seq2seq_model(seq2seq_model)"
   ]
  },
  {
   "cell_type": "markdown",
   "metadata": {},
   "source": [
    "## Neural Network Training\n",
    "### Hyperparameters\n",
    "Tune the following parameters:\n",
    "\n",
    "- Set `epochs` to the number of epochs.\n",
    "- Set `batch_size` to the batch size.\n",
    "- Set `rnn_size` to the size of the RNNs.\n",
    "- Set `num_layers` to the number of layers.\n",
    "- Set `encoding_embedding_size` to the size of the embedding for the encoder.\n",
    "- Set `decoding_embedding_size` to the size of the embedding for the decoder.\n",
    "- Set `learning_rate` to the learning rate.\n",
    "- Set `keep_probability` to the Dropout keep probability\n",
    "- Set `display_step` to state how many steps between each debug output statement"
   ]
  },
  {
   "cell_type": "code",
   "execution_count": 27,
   "metadata": {
    "collapsed": true
   },
   "outputs": [],
   "source": [
    "# Number of Epochs\n",
    "epochs = 8\n",
    "# Batch Size\n",
    "batch_size = 256\n",
    "# RNN Size\n",
    "rnn_size = 364\n",
    "# Number of Layers\n",
    "num_layers = 3\n",
    "# Embedding Size\n",
    "encoding_embedding_size = 256\n",
    "decoding_embedding_size = 256\n",
    "# Learning Rate\n",
    "learning_rate = .001\n",
    "# Dropout Keep Probability\n",
    "keep_probability = .5\n",
    "display_step = 50"
   ]
  },
  {
   "cell_type": "markdown",
   "metadata": {},
   "source": [
    "### Build the Graph\n",
    "Build the graph using the neural network you implemented."
   ]
  },
  {
   "cell_type": "code",
   "execution_count": 28,
   "metadata": {
    "collapsed": true
   },
   "outputs": [],
   "source": [
    "\"\"\"\n",
    "DON'T MODIFY ANYTHING IN THIS CELL\n",
    "\"\"\"\n",
    "save_path = 'checkpoints/dev'\n",
    "(source_int_text, target_int_text), (source_vocab_to_int, target_vocab_to_int), _ = helper.load_preprocess()\n",
    "max_target_sentence_length = max([len(sentence) for sentence in source_int_text])\n",
    "\n",
    "train_graph = tf.Graph()\n",
    "with train_graph.as_default():\n",
    "    input_data, targets, lr, keep_prob, target_sequence_length, max_target_sequence_length, source_sequence_length = model_inputs()\n",
    "\n",
    "    #sequence_length = tf.placeholder_with_default(max_target_sentence_length, None, name='sequence_length')\n",
    "    input_shape = tf.shape(input_data)\n",
    "\n",
    "    train_logits, inference_logits = seq2seq_model(tf.reverse(input_data, [-1]),\n",
    "                                                   targets,\n",
    "                                                   keep_prob,\n",
    "                                                   batch_size,\n",
    "                                                   source_sequence_length,\n",
    "                                                   target_sequence_length,\n",
    "                                                   max_target_sequence_length,\n",
    "                                                   len(source_vocab_to_int),\n",
    "                                                   len(target_vocab_to_int),\n",
    "                                                   encoding_embedding_size,\n",
    "                                                   decoding_embedding_size,\n",
    "                                                   rnn_size,\n",
    "                                                   num_layers,\n",
    "                                                   target_vocab_to_int)\n",
    "\n",
    "\n",
    "    training_logits = tf.identity(train_logits.rnn_output, name='logits')\n",
    "    inference_logits = tf.identity(inference_logits.sample_id, name='predictions')\n",
    "\n",
    "    masks = tf.sequence_mask(target_sequence_length, max_target_sequence_length, dtype=tf.float32, name='masks')\n",
    "\n",
    "    with tf.name_scope(\"optimization\"):\n",
    "        # Loss function\n",
    "        cost = tf.contrib.seq2seq.sequence_loss(\n",
    "            training_logits,\n",
    "            targets,\n",
    "            masks)\n",
    "\n",
    "        # Optimizer\n",
    "        optimizer = tf.train.AdamOptimizer(lr)\n",
    "\n",
    "        # Gradient Clipping\n",
    "        gradients = optimizer.compute_gradients(cost)\n",
    "        capped_gradients = [(tf.clip_by_value(grad, -1., 1.), var) for grad, var in gradients if grad is not None]\n",
    "        train_op = optimizer.apply_gradients(capped_gradients)\n"
   ]
  },
  {
   "cell_type": "markdown",
   "metadata": {},
   "source": [
    "Batch and pad the source and target sequences"
   ]
  },
  {
   "cell_type": "code",
   "execution_count": 29,
   "metadata": {
    "collapsed": true
   },
   "outputs": [],
   "source": [
    "\"\"\"\n",
    "DON'T MODIFY ANYTHING IN THIS CELL\n",
    "\"\"\"\n",
    "def pad_sentence_batch(sentence_batch, pad_int):\n",
    "    \"\"\"Pad sentences with <PAD> so that each sentence of a batch has the same length\"\"\"\n",
    "    max_sentence = max([len(sentence) for sentence in sentence_batch])\n",
    "    return [sentence + [pad_int] * (max_sentence - len(sentence)) for sentence in sentence_batch]\n",
    "\n",
    "\n",
    "def get_batches(sources, targets, batch_size, source_pad_int, target_pad_int):\n",
    "    \"\"\"Batch targets, sources, and the lengths of their sentences together\"\"\"\n",
    "    for batch_i in range(0, len(sources)//batch_size):\n",
    "        start_i = batch_i * batch_size\n",
    "\n",
    "        # Slice the right amount for the batch\n",
    "        sources_batch = sources[start_i:start_i + batch_size]\n",
    "        targets_batch = targets[start_i:start_i + batch_size]\n",
    "\n",
    "        # Pad\n",
    "        pad_sources_batch = np.array(pad_sentence_batch(sources_batch, source_pad_int))\n",
    "        pad_targets_batch = np.array(pad_sentence_batch(targets_batch, target_pad_int))\n",
    "\n",
    "        # Need the lengths for the _lengths parameters\n",
    "        pad_targets_lengths = []\n",
    "        for target in pad_targets_batch:\n",
    "            pad_targets_lengths.append(len(target))\n",
    "\n",
    "        pad_source_lengths = []\n",
    "        for source in pad_sources_batch:\n",
    "            pad_source_lengths.append(len(source))\n",
    "\n",
    "        yield pad_sources_batch, pad_targets_batch, pad_source_lengths, pad_targets_lengths\n"
   ]
  },
  {
   "cell_type": "markdown",
   "metadata": {},
   "source": [
    "### Train\n",
    "Train the neural network on the preprocessed data. If you have a hard time getting a good loss, check the forms to see if anyone is having the same problem."
   ]
  },
  {
   "cell_type": "code",
   "execution_count": 30,
   "metadata": {
    "scrolled": true
   },
   "outputs": [
    {
     "name": "stdout",
     "output_type": "stream",
     "text": [
      "0\n",
      "checking test accuracy...\n",
      "Epoch   0 Batch   50/538 - Train Accuracy: 0.4240, Validation Accuracy: 0.4648, Loss: 2.3821\n",
      "checking test accuracy...\n",
      "Epoch   0 Batch  100/538 - Train Accuracy: 0.4531, Validation Accuracy: 0.4964, Loss: 1.9564\n",
      "checking test accuracy...\n",
      "Epoch   0 Batch  150/538 - Train Accuracy: 0.5182, Validation Accuracy: 0.5451, Loss: 1.6156\n",
      "checking test accuracy...\n",
      "Epoch   0 Batch  200/538 - Train Accuracy: 0.5229, Validation Accuracy: 0.5565, Loss: 1.3783\n",
      "checking test accuracy...\n",
      "Epoch   0 Batch  250/538 - Train Accuracy: 0.5254, Validation Accuracy: 0.5637, Loss: 1.1681\n",
      "checking test accuracy...\n",
      "Epoch   0 Batch  300/538 - Train Accuracy: 0.5984, Validation Accuracy: 0.5989, Loss: 0.9732\n",
      "checking test accuracy...\n",
      "Epoch   0 Batch  350/538 - Train Accuracy: 0.5882, Validation Accuracy: 0.5968, Loss: 0.9145\n",
      "checking test accuracy...\n",
      "Epoch   0 Batch  400/538 - Train Accuracy: 0.5809, Validation Accuracy: 0.5968, Loss: 0.8121\n",
      "checking test accuracy...\n",
      "Epoch   0 Batch  450/538 - Train Accuracy: 0.6148, Validation Accuracy: 0.6090, Loss: 0.7896\n",
      "checking test accuracy...\n",
      "Epoch   0 Batch  500/538 - Train Accuracy: 0.6254, Validation Accuracy: 0.6142, Loss: 0.6709\n",
      "1\n",
      "checking test accuracy...\n",
      "Epoch   1 Batch   50/538 - Train Accuracy: 0.6244, Validation Accuracy: 0.6401, Loss: 0.6716\n",
      "checking test accuracy...\n",
      "Epoch   1 Batch  100/538 - Train Accuracy: 0.6133, Validation Accuracy: 0.6344, Loss: 0.6348\n",
      "checking test accuracy...\n",
      "Epoch   1 Batch  150/538 - Train Accuracy: 0.6338, Validation Accuracy: 0.6470, Loss: 0.6104\n",
      "checking test accuracy...\n",
      "Epoch   1 Batch  200/538 - Train Accuracy: 0.6426, Validation Accuracy: 0.6541, Loss: 0.5720\n",
      "checking test accuracy...\n",
      "Epoch   1 Batch  250/538 - Train Accuracy: 0.6412, Validation Accuracy: 0.6568, Loss: 0.5639\n",
      "checking test accuracy...\n",
      "Epoch   1 Batch  300/538 - Train Accuracy: 0.6603, Validation Accuracy: 0.6694, Loss: 0.5369\n",
      "checking test accuracy...\n",
      "Epoch   1 Batch  350/538 - Train Accuracy: 0.6685, Validation Accuracy: 0.6804, Loss: 0.5204\n",
      "checking test accuracy...\n",
      "Epoch   1 Batch  400/538 - Train Accuracy: 0.6670, Validation Accuracy: 0.6797, Loss: 0.4892\n",
      "checking test accuracy...\n",
      "Epoch   1 Batch  450/538 - Train Accuracy: 0.6897, Validation Accuracy: 0.6820, Loss: 0.4727\n",
      "checking test accuracy...\n",
      "Epoch   1 Batch  500/538 - Train Accuracy: 0.6989, Validation Accuracy: 0.6887, Loss: 0.4077\n",
      "2\n",
      "checking test accuracy...\n",
      "Epoch   2 Batch   50/538 - Train Accuracy: 0.6914, Validation Accuracy: 0.7099, Loss: 0.4192\n",
      "checking test accuracy...\n",
      "Epoch   2 Batch  100/538 - Train Accuracy: 0.6979, Validation Accuracy: 0.7113, Loss: 0.3840\n",
      "checking test accuracy...\n",
      "Epoch   2 Batch  150/538 - Train Accuracy: 0.6910, Validation Accuracy: 0.6978, Loss: 0.3672\n",
      "checking test accuracy...\n",
      "Epoch   2 Batch  200/538 - Train Accuracy: 0.7406, Validation Accuracy: 0.7262, Loss: 0.3380\n",
      "checking test accuracy...\n",
      "Epoch   2 Batch  250/538 - Train Accuracy: 0.7271, Validation Accuracy: 0.7397, Loss: 0.3234\n",
      "checking test accuracy...\n",
      "Epoch   2 Batch  300/538 - Train Accuracy: 0.7483, Validation Accuracy: 0.7512, Loss: 0.2883\n",
      "checking test accuracy...\n",
      "Epoch   2 Batch  350/538 - Train Accuracy: 0.7775, Validation Accuracy: 0.7434, Loss: 0.2784\n",
      "checking test accuracy...\n",
      "Epoch   2 Batch  400/538 - Train Accuracy: 0.7543, Validation Accuracy: 0.7392, Loss: 0.2525\n",
      "checking test accuracy...\n",
      "Epoch   2 Batch  450/538 - Train Accuracy: 0.7965, Validation Accuracy: 0.7630, Loss: 0.2379\n",
      "checking test accuracy...\n",
      "Epoch   2 Batch  500/538 - Train Accuracy: 0.8306, Validation Accuracy: 0.7793, Loss: 0.1916\n",
      "3\n",
      "checking test accuracy...\n",
      "Epoch   3 Batch   50/538 - Train Accuracy: 0.8000, Validation Accuracy: 0.8034, Loss: 0.2004\n",
      "checking test accuracy...\n",
      "Epoch   3 Batch  100/538 - Train Accuracy: 0.8275, Validation Accuracy: 0.8024, Loss: 0.1808\n",
      "checking test accuracy...\n",
      "Epoch   3 Batch  150/538 - Train Accuracy: 0.8125, Validation Accuracy: 0.7969, Loss: 0.1786\n",
      "checking test accuracy...\n",
      "Epoch   3 Batch  200/538 - Train Accuracy: 0.8250, Validation Accuracy: 0.8065, Loss: 0.1627\n",
      "checking test accuracy...\n",
      "Epoch   3 Batch  250/538 - Train Accuracy: 0.8410, Validation Accuracy: 0.8107, Loss: 0.1647\n",
      "checking test accuracy...\n",
      "Epoch   3 Batch  300/538 - Train Accuracy: 0.8166, Validation Accuracy: 0.8329, Loss: 0.1574\n",
      "checking test accuracy...\n",
      "Epoch   3 Batch  350/538 - Train Accuracy: 0.8484, Validation Accuracy: 0.8477, Loss: 0.1452\n",
      "checking test accuracy...\n",
      "Epoch   3 Batch  400/538 - Train Accuracy: 0.8642, Validation Accuracy: 0.8622, Loss: 0.1349\n",
      "checking test accuracy...\n",
      "Epoch   3 Batch  450/538 - Train Accuracy: 0.8925, Validation Accuracy: 0.8954, Loss: 0.1302\n",
      "checking test accuracy...\n",
      "Epoch   3 Batch  500/538 - Train Accuracy: 0.9183, Validation Accuracy: 0.8677, Loss: 0.0903\n",
      "4\n",
      "checking test accuracy...\n",
      "Epoch   4 Batch   50/538 - Train Accuracy: 0.9068, Validation Accuracy: 0.8865, Loss: 0.0832\n",
      "checking test accuracy...\n",
      "Epoch   4 Batch  100/538 - Train Accuracy: 0.9316, Validation Accuracy: 0.9061, Loss: 0.0800\n",
      "checking test accuracy...\n",
      "Epoch   4 Batch  150/538 - Train Accuracy: 0.9256, Validation Accuracy: 0.9039, Loss: 0.0750\n",
      "checking test accuracy...\n",
      "Epoch   4 Batch  200/538 - Train Accuracy: 0.9283, Validation Accuracy: 0.9013, Loss: 0.0668\n",
      "checking test accuracy...\n",
      "Epoch   4 Batch  250/538 - Train Accuracy: 0.9131, Validation Accuracy: 0.8841, Loss: 0.0661\n",
      "checking test accuracy...\n",
      "Epoch   4 Batch  300/538 - Train Accuracy: 0.9103, Validation Accuracy: 0.9094, Loss: 0.0704\n",
      "checking test accuracy...\n",
      "Epoch   4 Batch  350/538 - Train Accuracy: 0.9308, Validation Accuracy: 0.9171, Loss: 0.0613\n",
      "checking test accuracy...\n",
      "Epoch   4 Batch  400/538 - Train Accuracy: 0.9416, Validation Accuracy: 0.9157, Loss: 0.0608\n",
      "checking test accuracy...\n",
      "Epoch   4 Batch  450/538 - Train Accuracy: 0.9273, Validation Accuracy: 0.9332, Loss: 0.0669\n",
      "checking test accuracy...\n",
      "Epoch   4 Batch  500/538 - Train Accuracy: 0.9631, Validation Accuracy: 0.9215, Loss: 0.0386\n",
      "5\n",
      "checking test accuracy...\n",
      "Epoch   5 Batch   50/538 - Train Accuracy: 0.9393, Validation Accuracy: 0.9258, Loss: 0.0488\n",
      "checking test accuracy...\n",
      "Epoch   5 Batch  100/538 - Train Accuracy: 0.9520, Validation Accuracy: 0.9297, Loss: 0.0432\n",
      "checking test accuracy...\n",
      "Epoch   5 Batch  150/538 - Train Accuracy: 0.9529, Validation Accuracy: 0.9409, Loss: 0.0444\n",
      "checking test accuracy...\n",
      "Epoch   5 Batch  200/538 - Train Accuracy: 0.9492, Validation Accuracy: 0.9389, Loss: 0.0394\n",
      "checking test accuracy...\n",
      "Epoch   5 Batch  250/538 - Train Accuracy: 0.9473, Validation Accuracy: 0.9398, Loss: 0.0455\n",
      "checking test accuracy...\n",
      "Epoch   5 Batch  300/538 - Train Accuracy: 0.9371, Validation Accuracy: 0.9464, Loss: 0.0465\n",
      "checking test accuracy...\n",
      "Epoch   5 Batch  350/538 - Train Accuracy: 0.9496, Validation Accuracy: 0.9496, Loss: 0.0450\n",
      "checking test accuracy...\n",
      "Epoch   5 Batch  400/538 - Train Accuracy: 0.9676, Validation Accuracy: 0.9482, Loss: 0.0408\n",
      "checking test accuracy...\n",
      "Epoch   5 Batch  450/538 - Train Accuracy: 0.9315, Validation Accuracy: 0.9553, Loss: 0.0551\n",
      "checking test accuracy...\n",
      "Epoch   5 Batch  500/538 - Train Accuracy: 0.9744, Validation Accuracy: 0.9450, Loss: 0.0299\n",
      "6\n",
      "checking test accuracy...\n",
      "Epoch   6 Batch   50/538 - Train Accuracy: 0.9650, Validation Accuracy: 0.9629, Loss: 0.0322\n",
      "checking test accuracy...\n",
      "Epoch   6 Batch  100/538 - Train Accuracy: 0.9721, Validation Accuracy: 0.9535, Loss: 0.0318\n",
      "checking test accuracy...\n",
      "Epoch   6 Batch  150/538 - Train Accuracy: 0.9746, Validation Accuracy: 0.9572, Loss: 0.0320\n",
      "checking test accuracy...\n",
      "Epoch   6 Batch  200/538 - Train Accuracy: 0.9621, Validation Accuracy: 0.9632, Loss: 0.0285\n",
      "checking test accuracy...\n",
      "Epoch   6 Batch  250/538 - Train Accuracy: 0.9539, Validation Accuracy: 0.9441, Loss: 0.0372\n",
      "checking test accuracy...\n",
      "Epoch   6 Batch  300/538 - Train Accuracy: 0.9533, Validation Accuracy: 0.9618, Loss: 0.0374\n",
      "checking test accuracy...\n",
      "Epoch   6 Batch  350/538 - Train Accuracy: 0.9647, Validation Accuracy: 0.9641, Loss: 0.0349\n",
      "checking test accuracy...\n",
      "Epoch   6 Batch  400/538 - Train Accuracy: 0.9753, Validation Accuracy: 0.9624, Loss: 0.0305\n",
      "checking test accuracy...\n",
      "Epoch   6 Batch  450/538 - Train Accuracy: 0.9503, Validation Accuracy: 0.9695, Loss: 0.0406\n"
     ]
    },
    {
     "name": "stdout",
     "output_type": "stream",
     "text": [
      "checking test accuracy...\n",
      "Epoch   6 Batch  500/538 - Train Accuracy: 0.9803, Validation Accuracy: 0.9625, Loss: 0.0219\n",
      "7\n",
      "checking test accuracy...\n",
      "Epoch   7 Batch   50/538 - Train Accuracy: 0.9590, Validation Accuracy: 0.9670, Loss: 0.0259\n",
      "checking test accuracy...\n",
      "Epoch   7 Batch  100/538 - Train Accuracy: 0.9709, Validation Accuracy: 0.9654, Loss: 0.0258\n",
      "checking test accuracy...\n",
      "Epoch   7 Batch  150/538 - Train Accuracy: 0.9742, Validation Accuracy: 0.9600, Loss: 0.0228\n",
      "checking test accuracy...\n",
      "Epoch   7 Batch  200/538 - Train Accuracy: 0.9736, Validation Accuracy: 0.9608, Loss: 0.0230\n",
      "checking test accuracy...\n",
      "Epoch   7 Batch  250/538 - Train Accuracy: 0.9650, Validation Accuracy: 0.9602, Loss: 0.0275\n",
      "checking test accuracy...\n",
      "Epoch   7 Batch  300/538 - Train Accuracy: 0.9602, Validation Accuracy: 0.9723, Loss: 0.0255\n",
      "checking test accuracy...\n",
      "Epoch   7 Batch  350/538 - Train Accuracy: 0.9764, Validation Accuracy: 0.9600, Loss: 0.0311\n",
      "checking test accuracy...\n",
      "Epoch   7 Batch  400/538 - Train Accuracy: 0.9777, Validation Accuracy: 0.9567, Loss: 0.0242\n",
      "checking test accuracy...\n",
      "Epoch   7 Batch  450/538 - Train Accuracy: 0.9444, Validation Accuracy: 0.9688, Loss: 0.0361\n",
      "checking test accuracy...\n",
      "Epoch   7 Batch  500/538 - Train Accuracy: 0.9776, Validation Accuracy: 0.9599, Loss: 0.0171\n",
      "Model Trained and Saved\n"
     ]
    }
   ],
   "source": [
    "\"\"\"\n",
    "DON'T MODIFY ANYTHING IN THIS CELL\n",
    "\"\"\"\n",
    "def get_accuracy(target, logits):\n",
    "    \"\"\"\n",
    "    Calculate accuracy\n",
    "    \"\"\"\n",
    "    max_seq = max(target.shape[1], logits.shape[1])\n",
    "    if max_seq - target.shape[1]:\n",
    "        target = np.pad(\n",
    "            target,\n",
    "            [(0,0),(0,max_seq - target.shape[1])],\n",
    "            'constant')\n",
    "    if max_seq - logits.shape[1]:\n",
    "        logits = np.pad(\n",
    "            logits,\n",
    "            [(0,0),(0,max_seq - logits.shape[1])],\n",
    "            'constant')\n",
    "\n",
    "    return np.mean(np.equal(target, logits))\n",
    "\n",
    "# Split data to training and validation sets\n",
    "train_source = source_int_text[batch_size:]\n",
    "train_target = target_int_text[batch_size:]\n",
    "valid_source = source_int_text[:batch_size]\n",
    "valid_target = target_int_text[:batch_size]\n",
    "(valid_sources_batch, valid_targets_batch, valid_sources_lengths, valid_targets_lengths ) = next(get_batches(valid_source,\n",
    "                                                                                                             valid_target,\n",
    "                                                                                                             batch_size,\n",
    "                                                                                                             source_vocab_to_int['<PAD>'],\n",
    "                                                                                                             target_vocab_to_int['<PAD>']))                                                                                                    \n",
    "with tf.Session(graph=train_graph) as sess:\n",
    "    sess.run(tf.global_variables_initializer())\n",
    "    for epoch_i in range(epochs):\n",
    "        print(epoch_i)\n",
    "        for batch_i, (source_batch, target_batch, sources_lengths, targets_lengths) in enumerate(\n",
    "                get_batches(train_source, train_target, batch_size,\n",
    "                            source_vocab_to_int['<PAD>'],\n",
    "                            target_vocab_to_int['<PAD>'])):\n",
    "\n",
    "            _, loss = sess.run(\n",
    "                [train_op, cost],\n",
    "                {input_data: source_batch,\n",
    "                 targets: target_batch,\n",
    "                 lr: learning_rate,\n",
    "                 target_sequence_length: targets_lengths,\n",
    "                 source_sequence_length: sources_lengths,\n",
    "                 keep_prob: keep_probability})\n",
    "\n",
    "            \n",
    "            if batch_i % display_step == 0 and batch_i > 0:\n",
    "\n",
    "                batch_train_logits = sess.run(\n",
    "                    inference_logits,\n",
    "                    {input_data: source_batch,\n",
    "                     source_sequence_length: sources_lengths,\n",
    "                     target_sequence_length: targets_lengths,\n",
    "                     keep_prob: 1.0})\n",
    "\n",
    "\n",
    "                batch_valid_logits = sess.run(\n",
    "                    inference_logits,\n",
    "                    {input_data: valid_sources_batch,\n",
    "                     source_sequence_length: valid_sources_lengths,\n",
    "                     target_sequence_length: valid_targets_lengths,\n",
    "                     keep_prob: 1.0})\n",
    "                \n",
    "                print('checking test accuracy...')\n",
    "                train_acc = get_accuracy(target_batch, batch_train_logits)\n",
    "\n",
    "                valid_acc = get_accuracy(valid_targets_batch, batch_valid_logits)\n",
    "\n",
    "                print('Epoch {:>3} Batch {:>4}/{} - Train Accuracy: {:>6.4f}, Validation Accuracy: {:>6.4f}, Loss: {:>6.4f}'\n",
    "                      .format(epoch_i, batch_i, len(source_int_text) // batch_size, train_acc, valid_acc, loss))\n",
    "\n",
    "    # Save Model\n",
    "    saver = tf.train.Saver()\n",
    "    saver.save(sess, save_path)\n",
    "    print('Model Trained and Saved')"
   ]
  },
  {
   "cell_type": "markdown",
   "metadata": {},
   "source": [
    "### Save Parameters\n",
    "Save the `batch_size` and `save_path` parameters for inference."
   ]
  },
  {
   "cell_type": "code",
   "execution_count": 31,
   "metadata": {
    "collapsed": true
   },
   "outputs": [],
   "source": [
    "\"\"\"\n",
    "DON'T MODIFY ANYTHING IN THIS CELL\n",
    "\"\"\"\n",
    "# Save parameters for checkpoint\n",
    "helper.save_params(save_path)"
   ]
  },
  {
   "cell_type": "markdown",
   "metadata": {},
   "source": [
    "# Checkpoint"
   ]
  },
  {
   "cell_type": "code",
   "execution_count": 32,
   "metadata": {
    "collapsed": true
   },
   "outputs": [],
   "source": [
    "\"\"\"\n",
    "DON'T MODIFY ANYTHING IN THIS CELL\n",
    "\"\"\"\n",
    "import tensorflow as tf\n",
    "import numpy as np\n",
    "import helper\n",
    "import problem_unittests as tests\n",
    "\n",
    "_, (source_vocab_to_int, target_vocab_to_int), (source_int_to_vocab, target_int_to_vocab) = helper.load_preprocess()\n",
    "load_path = helper.load_params()"
   ]
  },
  {
   "cell_type": "markdown",
   "metadata": {},
   "source": [
    "## Sentence to Sequence\n",
    "To feed a sentence into the model for translation, you first need to preprocess it.  Implement the function `sentence_to_seq()` to preprocess new sentences.\n",
    "\n",
    "- Convert the sentence to lowercase\n",
    "- Convert words into ids using `vocab_to_int`\n",
    " - Convert words not in the vocabulary, to the `<UNK>` word id."
   ]
  },
  {
   "cell_type": "code",
   "execution_count": 33,
   "metadata": {},
   "outputs": [
    {
     "name": "stdout",
     "output_type": "stream",
     "text": [
      "Tests Passed\n"
     ]
    }
   ],
   "source": [
    "def sentence_to_seq(sentence, vocab_to_int):\n",
    "    \"\"\"\n",
    "    Convert a sentence to a sequence of ids\n",
    "    :param sentence: String\n",
    "    :param vocab_to_int: Dictionary to go from the words to an id\n",
    "    :return: List of word ids\n",
    "    \"\"\"\n",
    "    sentence_ids = []\n",
    "    \n",
    "    for word in sentence.lower().split(' '):\n",
    "        try:\n",
    "            word_id = vocab_to_int[word]\n",
    "        except:\n",
    "            word_id = vocab_to_int['<UNK>']\n",
    "        sentence_ids.append(word_id)\n",
    "\n",
    "    return sentence_ids\n",
    "\n",
    "\n",
    "\"\"\"\n",
    "DON'T MODIFY ANYTHING IN THIS CELL THAT IS BELOW THIS LINE\n",
    "\"\"\"\n",
    "tests.test_sentence_to_seq(sentence_to_seq)"
   ]
  },
  {
   "cell_type": "markdown",
   "metadata": {},
   "source": [
    "## Translate\n",
    "This will translate `translate_sentence` from English to French."
   ]
  },
  {
   "cell_type": "code",
   "execution_count": 34,
   "metadata": {},
   "outputs": [
    {
     "name": "stdout",
     "output_type": "stream",
     "text": [
      "INFO:tensorflow:Restoring parameters from checkpoints/dev\n",
      "Input\n",
      "  Word Ids:      [115, 162, 2, 65, 29, 136, 206]\n",
      "  English Words: ['he', 'saw', '<UNK>', 'old', 'yellow', 'truck', '.']\n",
      "\n",
      "Prediction\n",
      "  Word Ids:      [131, 50, 144, 257, 289, 93, 340, 343, 1]\n",
      "  French Words: il a vu un vieux camion jaune . <EOS>\n"
     ]
    }
   ],
   "source": [
    "translate_sentence = 'he saw an old yellow truck .'\n",
    "\n",
    "\n",
    "\"\"\"\n",
    "DON'T MODIFY ANYTHING IN THIS CELL\n",
    "\"\"\"\n",
    "translate_sentence = sentence_to_seq(translate_sentence, source_vocab_to_int)\n",
    "\n",
    "loaded_graph = tf.Graph()\n",
    "with tf.Session(graph=loaded_graph) as sess:\n",
    "    # Load saved model\n",
    "    loader = tf.train.import_meta_graph(load_path + '.meta')\n",
    "    loader.restore(sess, load_path)\n",
    "\n",
    "    input_data = loaded_graph.get_tensor_by_name('input:0')\n",
    "    logits = loaded_graph.get_tensor_by_name('predictions:0')\n",
    "    target_sequence_length = loaded_graph.get_tensor_by_name('target_sequence_length:0')\n",
    "    source_sequence_length = loaded_graph.get_tensor_by_name('source_sequence_length:0')\n",
    "    keep_prob = loaded_graph.get_tensor_by_name('keep_prob:0')\n",
    "\n",
    "    translate_logits = sess.run(logits, {input_data: [translate_sentence]*batch_size,\n",
    "                                         target_sequence_length: [len(translate_sentence)*2]*batch_size,\n",
    "                                         source_sequence_length: [len(translate_sentence)]*batch_size,\n",
    "                                         keep_prob: 1.0})[0]\n",
    "\n",
    "print('Input')\n",
    "print('  Word Ids:      {}'.format([i for i in translate_sentence]))\n",
    "print('  English Words: {}'.format([source_int_to_vocab[i] for i in translate_sentence]))\n",
    "\n",
    "print('\\nPrediction')\n",
    "print('  Word Ids:      {}'.format([i for i in translate_logits]))\n",
    "print('  French Words: {}'.format(\" \".join([target_int_to_vocab[i] for i in translate_logits])))\n"
   ]
  },
  {
   "cell_type": "markdown",
   "metadata": {},
   "source": [
    "## Imperfect Translation\n",
    "You might notice that some sentences translate better than others.  Since the dataset you're using only has a vocabulary of 227 English words of the thousands that you use, you're only going to see good results using these words.  For this project, you don't need a perfect translation. However, if you want to create a better translation model, you'll need better data.\n",
    "\n",
    "You can train on the [WMT10 French-English corpus](http://www.statmt.org/wmt10/training-giga-fren.tar).  This dataset has more vocabulary and richer in topics discussed.  However, this will take you days to train, so make sure you've a GPU and the neural network is performing well on dataset we provided.  Just make sure you play with the WMT10 corpus after you've submitted this project.\n",
    "## Submitting This Project\n",
    "When submitting this project, make sure to run all the cells before saving the notebook. Save the notebook file as \"dlnd_language_translation.ipynb\" and save it as a HTML file under \"File\" -> \"Download as\". Include the \"helper.py\" and \"problem_unittests.py\" files in your submission."
   ]
  }
 ],
 "metadata": {
  "anaconda-cloud": {},
  "kernelspec": {
   "display_name": "Python 3",
   "language": "python",
   "name": "python3"
  },
  "language_info": {
   "codemirror_mode": {
    "name": "ipython",
    "version": 3
   },
   "file_extension": ".py",
   "mimetype": "text/x-python",
   "name": "python",
   "nbconvert_exporter": "python",
   "pygments_lexer": "ipython3",
   "version": "3.5.3"
  }
 },
 "nbformat": 4,
 "nbformat_minor": 1
}
